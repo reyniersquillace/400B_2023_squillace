{
 "cells": [
  {
   "cell_type": "markdown",
   "metadata": {},
   "source": [
    "# In Class Lab 1\n",
    "\n",
    "### Due by 5 PM Jan 31st in your github repository 'Labs/Lab1' folder\n",
    "\n",
    "## Part A:  The Local Standard of Rest\n",
    "Proper motion of Sgr A* from Reid & Brunthaler 2004\n",
    "$\\mu = 6.379$ mas/yr \n",
    "\n",
    "Peculiar motion of the sun, $v_\\odot$ = 12.24 km/s  (Schonrich 2010)\n",
    "\n",
    "\n",
    "$v_{tan} = 4.74 \\frac{\\mu}{\\rm mas/yr} \\frac{R_o}{\\rm kpc} = V_{LSR} + v_\\odot$\n",
    "\n",
    "\n",
    "### a)\n",
    "\n",
    "Create a function called VLSR to compute the local standard of res (V$_{LSR}$).\n",
    "\n",
    "The function should take as input: the solar radius (R$_o$), the proper motion (mu)\n",
    "and the peculiar motion of the sun in the $v_\\odot$ direction.\n",
    "\n",
    "Compute V$_{LSR}$ using three different values R$_o$: \n",
    "1. Water Maser Distance for the Sun :  R$_o$ = 8.34 kpc   (Reid 2014 ApJ 783) \n",
    "2. GRAVITY Collaboration Distance for the Sun:  R$_o$ = 8.178 kpc   (Abuter+2019 A&A 625)\n",
    "3. Value for Distance to Sun listed in Sparke & Gallagher : R$_o$ = 7.9 kpc \n"
   ]
  },
  {
   "cell_type": "code",
   "execution_count": 1,
   "metadata": {},
   "outputs": [],
   "source": [
    "# Import Modules \n",
    "import numpy as np # import numpy\n",
    "import astropy.units as u # import astropy units\n",
    "from astropy import constants as const # import astropy constants"
   ]
  },
  {
   "cell_type": "code",
   "execution_count": 4,
   "metadata": {},
   "outputs": [],
   "source": [
    "def VLSR(R0, mu = 6.379, vsun = 12.24*u.km/u.s):\n",
    "    ''' \n",
    "    This function computes the local standard of rest. \n",
    "    VLSR = 4.74 * mu *R0 - vsun\n",
    "\n",
    "    Inputs:\n",
    "    -------\n",
    "        R0 (kpc)   : the solar radius\n",
    "        mu (float) : the proper motion, set to 6.379mas/yr as a default as per Reid & Brunthaler 2004\n",
    "        vsun (km/s): the pecular motion of the Sun, set to 12.24km/s as a default as per Schonrich et al. 2010\n",
    "    \n",
    "    Returns:\n",
    "    --------\n",
    "        VLSR (km/s): the velocity of the local standard of rest\n",
    "\n",
    "    '''\n",
    "    return 4.74 * mu * (R0/u.kpc)*u.km/u.s - vsun\n"
   ]
  },
  {
   "cell_type": "code",
   "execution_count": 11,
   "metadata": {},
   "outputs": [],
   "source": [
    "#define distances to the Galactic Center from the Sun \n",
    "R0_Reid = 8.34*u.kpc #distance from Reid et al. 2014 in kpc\n",
    "R0_Gravity = 8.178*u.kpc #distance from Gravity Collaboration Abuter et al. 2019 in kpc\n",
    "R0_SandG = 7.9*u.kpc #distance from the textbook Sparke & Gallagher"
   ]
  },
  {
   "cell_type": "code",
   "execution_count": 12,
   "metadata": {},
   "outputs": [
    {
     "name": "stdout",
     "output_type": "stream",
     "text": [
      "240.0 km / s\n",
      "235.0 km / s\n",
      "227.0 km / s\n"
     ]
    }
   ],
   "source": [
    "#compute VLSR using R0_Reid\n",
    "VLSR_Reid = VLSR(R0_Reid)\n",
    "VLSR_Gravity = VLSR(R0_Gravity)\n",
    "VLSR_SandG = VLSR(R0_SandG)\n",
    "print(np.round(VLSR_Reid))\n",
    "print(np.round(VLSR_Gravity))\n",
    "print(np.round(VLSR_SandG))"
   ]
  },
  {
   "cell_type": "markdown",
   "metadata": {},
   "source": [
    "### b)\n",
    "\n",
    "compute the orbital period of the sun in Gyr using R$_o$ from the GRAVITY Collaboration (assume circular orbit)\n",
    "\n",
    "Note that 1 km/s $\\sim$ 1kpc/Gyr"
   ]
  },
  {
   "cell_type": "code",
   "execution_count": 13,
   "metadata": {},
   "outputs": [],
   "source": [
    "def T_orbSun(R, V):\n",
    "    ''' \n",
    "    This function calculates the orbital period of the Sun. \n",
    "    T = 2*pi*R / V\n",
    "\n",
    "    Inputs:\n",
    "    ------\n",
    "            R (kpc) : distance\n",
    "            V (km/s): velocity in v direction\n",
    "\n",
    "    Returns:\n",
    "    --------\n",
    "            T (Gyr): orbital period\n",
    "    '''\n",
    "    V_kpcGyr = V.to(u.kpc/u.Gyr) #converting to kpc/Gyr\n",
    "    T = 2*np.pi*R/V_kpcGyr #orbital period\n",
    "    return T"
   ]
  },
  {
   "cell_type": "code",
   "execution_count": 14,
   "metadata": {},
   "outputs": [],
   "source": [
    "#velocity of the Sun = VLSR + peculiar motion\n",
    "VsunPeculiar = 12.24*u.km/u.s #as per Schonrich et al. 2010\n",
    "VSun = VLSR_Gravity + VsunPeculiar"
   ]
  },
  {
   "cell_type": "code",
   "execution_count": 15,
   "metadata": {},
   "outputs": [
    {
     "name": "stdout",
     "output_type": "stream",
     "text": [
      "0.20318680562272234 Gyr\n"
     ]
    }
   ],
   "source": [
    "#compute orbital period of the Sun using R0 from Gravity Collaboration\n",
    "T_Grav = T_orbSun(R0_Gravity, VSun)\n",
    "print(T_Grav)"
   ]
  },
  {
   "cell_type": "markdown",
   "metadata": {},
   "source": [
    "### c)\n",
    "\n",
    "Compute the number of rotations about the GC over the age of the universe (13.8 Gyr)"
   ]
  },
  {
   "cell_type": "code",
   "execution_count": 16,
   "metadata": {},
   "outputs": [
    {
     "name": "stdout",
     "output_type": "stream",
     "text": [
      "67.91779593023313\n"
     ]
    }
   ],
   "source": [
    "Age = 13.8*u.Gyr #Age of the Universe\n",
    "print(Age/T_Grav)"
   ]
  },
  {
   "cell_type": "markdown",
   "metadata": {},
   "source": [
    "## Part B  Dark Matter Density Profiles\n",
    "\n",
    "### a)\n",
    "Try out Fitting Rotation Curves \n",
    "[here](http://wittman.physics.ucdavis.edu/Animations/RotationCurve/GalacticRotation.html)\n",
    "\n",
    "\n",
    "### b)\n",
    "\n",
    "\n",
    "In the Isothermal Sphere model, what is the mass enclosed within the solar radius (R$_o$) in units of M$_\\odot$? \n",
    "\n",
    "Recall that for the Isothermal sphere :\n",
    "$\\rho(r) = \\frac{V_{LSR}^2}{4\\pi G r^2}$\n",
    "\n",
    "Where $G$ = 4.4985e-6 kpc$^3$/Gyr$^2$/M$_\\odot$, r is in kpc and $V_{LSR}$ is in km/s\n",
    "\n",
    "What about at 260 kpc (in units of  M$_\\odot$) ? "
   ]
  },
  {
   "cell_type": "code",
   "execution_count": 19,
   "metadata": {},
   "outputs": [],
   "source": [
    "Grav = const.G.to((u.kpc**3)/(u.Gyr**2)/(u.solMass))"
   ]
  },
  {
   "cell_type": "code",
   "execution_count": 27,
   "metadata": {},
   "outputs": [],
   "source": [
    "#density profile rho = VLSR^2 / (4*pi*G*R^2)\n",
    "#Mass   = Integrate rho dV \n",
    "#       = rho 4*pi*r^2 dr\n",
    "#       = (VLSR^2 / (4*pi*G*r^2))* 4*pi*r^2 dr\n",
    "#       = VLSR^2 * r / G\n",
    "\n",
    "def MassIso(r, VLSR):\n",
    "    ''' \n",
    "    This function will compute the dark matter mass enclosed within a given distance assuming an \n",
    "    Isothermal SPhere Model for the dark matter.\n",
    "\n",
    "    Inputs:\n",
    "    -------\n",
    "            r (kpc)    : distance to Galactic Center\n",
    "            VLSR (km/s): velocity of the Local Standard of Rest-\n",
    "\n",
    "    Returns:\n",
    "    --------\n",
    "            M (solMass): VLSR^2 * r (from Lab instructions)\n",
    "\n",
    "    '''\n",
    "    VLSR_kpcGyr = VLSR.to(u.kpc/u.Gyr) #converting km/s to kpc/Gyr\n",
    "    M = VLSR_kpcGyr**2  *r / Grav\n",
    "    return M"
   ]
  },
  {
   "cell_type": "code",
   "execution_count": 36,
   "metadata": {},
   "outputs": [
    {
     "name": "stdout",
     "output_type": "stream",
     "text": [
      "1.05e+11 solMass\n",
      "3.34e+12 solMass\n"
     ]
    }
   ],
   "source": [
    "MIsoSolar = MassIso(R0_Gravity, VLSR_Gravity)\n",
    "print(f\"{MIsoSolar:.2e}\")\n",
    "MIso260 = MassIso(260*u.kpc, VLSR_Gravity)\n",
    "print(f\"{MIso260:.2e}\")"
   ]
  },
  {
   "cell_type": "markdown",
   "metadata": {},
   "source": [
    "## c) \n",
    "\n",
    "The Leo I satellite is one of the fastest moving satellite galaxies we know. \n",
    "\n",
    "\n",
    "It is moving with 3D velocity of magnitude: Vtot = 196 km/s at a distance of 260 kpc (Sohn 2013 ApJ 768)\n",
    "\n",
    "If we assume that Leo I is moving at the escape speed:\n",
    "\n",
    "$v_{esc}^2 = 2|\\Phi| = 2 \\int G \\frac{\\rho(r)}{r}dV $ \n",
    "\n",
    "and assuming the Milky Way is well modeled by a Hernquist Sphere with a scale radius of $a$= 30 kpc, what is the minimum mass of the Milky Way (in units of M$_\\odot$) ?  \n",
    "\n",
    "How does this compare to estimates of the mass assuming the Isothermal Sphere model at 260 kpc (from your answer above)"
   ]
  },
  {
   "cell_type": "code",
   "execution_count": 29,
   "metadata": {},
   "outputs": [],
   "source": [
    "# Potential for a Hernquist Profile\n",
    "# phi = -G*M/(r+a)\n",
    "# using the potential for a Hernquist Profile, the equation for the escape speed becomes:\n",
    "# v_esc^2 = 2*G*M/(r+a)\n",
    "# Rearrange the escape speed equation for M\n",
    "# M = v_esc^2 / 2 /G * (r+a)\n",
    "\n",
    "def MassFromVesc(vesc, r, a):\n",
    "    ''' \n",
    "    This function determines the total mass needed for a given escape speed assuming \n",
    "    a Hernquist profile for the dark matter halo.\n",
    "    M = vesc**2*(r+a) /2/G\n",
    "\n",
    "    Inputs:\n",
    "    -------\n",
    "        vesc (km/s): escape velocity\n",
    "        r (kpc): the distance from the Galactic center\n",
    "        a (kpc): the Hernquist scale length\n",
    "\n",
    "    Return:\n",
    "    -------\n",
    "        M (soMass): total mass within r\n",
    "    '''\n",
    "\n",
    "    vescKpcGyr = vesc.to(u.kpc/u.Gyr) #converting velocity units to kpc/Gyr\n",
    "    M = vescKpcGyr**2/2/Grav*(r+a) #Required mass\n",
    "    return M"
   ]
  },
  {
   "cell_type": "code",
   "execution_count": 30,
   "metadata": {},
   "outputs": [],
   "source": [
    "VLeoI = 196*u.km/u.s #speed of Leo I\n",
    "a = 30*u.kpc #scale radius for Hernquist Halo\n",
    "r = 260*u.kpc #Galactic center distance of Leo I"
   ]
  },
  {
   "cell_type": "code",
   "execution_count": 34,
   "metadata": {},
   "outputs": [
    {
     "name": "stdout",
     "output_type": "stream",
     "text": [
      "1.30e+12 solMass\n"
     ]
    }
   ],
   "source": [
    "#compute the mass needed to keep Leo I bound\n",
    "MLeoI = MassFromVesc(VLeoI, r, a)\n",
    "print(f\"{MLeoI:.2e}\")"
   ]
  },
  {
   "cell_type": "code",
   "execution_count": 37,
   "metadata": {},
   "outputs": [
    {
     "data": {
      "text/latex": [
       "$2.5784204 \\; \\mathrm{}$"
      ],
      "text/plain": [
       "<Quantity 2.57842045>"
      ]
     },
     "execution_count": 37,
     "metadata": {},
     "output_type": "execute_result"
    }
   ],
   "source": [
    "MIso260/MLeoI"
   ]
  }
 ],
 "metadata": {
  "kernelspec": {
   "display_name": "Python 3",
   "language": "python",
   "name": "python3"
  },
  "language_info": {
   "codemirror_mode": {
    "name": "ipython",
    "version": 3
   },
   "file_extension": ".py",
   "mimetype": "text/x-python",
   "name": "python",
   "nbconvert_exporter": "python",
   "pygments_lexer": "ipython3",
   "version": "3.8.10"
  },
  "vscode": {
   "interpreter": {
    "hash": "31f2aee4e71d21fbe5cf8b01ff0e069b9275f58929596ceb00d14d90e3e16cd6"
   }
  }
 },
 "nbformat": 4,
 "nbformat_minor": 2
}
