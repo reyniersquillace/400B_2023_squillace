{
 "cells": [
  {
   "attachments": {},
   "cell_type": "markdown",
   "metadata": {},
   "source": [
    "Homework 4 \\\n",
    "Center of Mass Position and Velocity \\\n",
    "Reynier Squillace \\\n",
    "Modified from the template by Gurtina Besla "
   ]
  },
  {
   "cell_type": "code",
   "execution_count": 98,
   "metadata": {
    "ExecuteTime": {
     "end_time": "2020-02-04T23:59:21.657237Z",
     "start_time": "2020-02-04T23:59:21.653687Z"
    },
    "collapsed": true
   },
   "outputs": [],
   "source": [
    "# import modules\n",
    "import numpy as np\n",
    "import astropy.units as u\n",
    "import pandas as pd\n",
    "from ReadFile import Read"
   ]
  },
  {
   "cell_type": "code",
   "execution_count": 166,
   "metadata": {
    "ExecuteTime": {
     "end_time": "2020-02-04T23:59:24.003059Z",
     "start_time": "2020-02-04T23:59:23.979271Z"
    },
    "collapsed": true
   },
   "outputs": [],
   "source": [
    "class CenterOfMass:\n",
    "# Class to define COM position and velocity properties of a given galaxy \n",
    "# and simulation snapshot\n",
    "\n",
    "    def __init__(self, filename, ptype):\n",
    "        ''' \n",
    "        Class to calculate the 6-D phase-space position of a galaxy's center of mass using\n",
    "        a specified particle type. \n",
    "            \n",
    "        Inputs:\n",
    "        -------\n",
    "                filename (str): snapshot file\n",
    "                ptype    (int): particle type to use for COM calculations, either 1, 2, or 3\n",
    "        '''\n",
    "     \n",
    "        # read data in the given file using Read\n",
    "        self.time, self.total, self.data = Read(filename)                                                                                             \n",
    "\n",
    "        #create an array to store indexes of particles of desired Ptype                                \n",
    "        self.index = np.where(self.data['type'] == ptype)\n",
    "\n",
    "        # store the mass, positions, velocities of only the particles of the given type\n",
    "        # the following only gives the example of storing the mass\n",
    "        self.m = self.data['m'][self.index]\n",
    "        # write your own code to complete this for positions and velocities\n",
    "        self.x = self.data['x'][self.index]\n",
    "        self.y = self.data['y'][self.index]\n",
    "        self.z = self.data['z'][self.index]\n",
    "        self.vx = self.data['vx'][self.index]\n",
    "        self.vy = self.data['vy'][self.index]\n",
    "        self.vz = self.data['vz'][self.index]\n",
    "\n",
    "\n",
    "    def COMdefine(self,a,b,c,m):\n",
    "        ''' \n",
    "        Function to compute the COM of a generic vector quantity by direct weighted averaging.\n",
    "        \n",
    "        Inputs:\n",
    "        -------\n",
    "            a (float or np.ndarray of floats): first vector component\n",
    "            b (float or np.ndarray of floats): second vector component\n",
    "            c (float or np.ndarray of floats): third vector component\n",
    "            m (float or np.ndarray of floats): particle masses\n",
    "        \n",
    "        Returns:\n",
    "        --------\n",
    "            a_com (float): first component on the COM vector\n",
    "            b_com (float): second component on the COM vector\n",
    "            c_com (float): third component on the COM vector\n",
    "        '''\n",
    "        total_mass = np.sum(m)\n",
    "        # write your own code to compute the generic COM \n",
    "        #using Eq. 1 in the homework instructions\n",
    "        # xcomponent Center of mass\n",
    "        a_com = np.dot(a, m)/total_mass\n",
    "        # ycomponent Center of mass\n",
    "        b_com = np.dot(b, m)/total_mass\n",
    "        # zcomponent Center of mass\n",
    "        c_com = np.dot(c, m)/total_mass\n",
    "        \n",
    "        # return the 3 components separately\n",
    "        return a_com, b_com, c_com\n",
    "       \n",
    "    \n",
    "    \n",
    "    def COM_P(self, delta = 0.1):\n",
    "        '''\n",
    "        Method to compute the position of the center of mass of the galaxy \n",
    "        using the shrinking-sphere method.\n",
    "\n",
    "        Inputs:\n",
    "        -------\n",
    "                delta (float): error tolerance in kpc. Default is 0.1 kpc\n",
    "        \n",
    "        Returns:\n",
    "        --------\n",
    "                p_COM (array): 3-D position of the center of mass in kpc\n",
    "        '''                                                                     \n",
    "\n",
    "        # Center of Mass Position                                                                                      \n",
    "        ###########################                                                                                    \n",
    "\n",
    "        # Try a first guess at the COM position by calling COMdefine                                                   \n",
    "        x_COM, y_COM, z_COM = self.COMdefine(self.x, self.y, self.z, self.m)\n",
    "        # compute the magnitude of the COM position vector.\n",
    "        # write your own code below\n",
    "        r_COM = np.sqrt(x_COM**2 + y_COM**2 + z_COM**2)\n",
    "\n",
    "\n",
    "        # iterative process to determine the center of mass                                                            \n",
    "\n",
    "        # change reference frame to COM frame                                                                          \n",
    "        # compute the difference between particle coordinates                                                          \n",
    "        # and the first guess at COM position\n",
    "        # write your own code below\n",
    "        x_new = self.x - x_COM\n",
    "        y_new = self.y - y_COM\n",
    "        z_new = self.z - z_COM\n",
    "        r_new = np.sqrt(x_new**2 + y_new**2 + z_new**2)\n",
    "\n",
    "        # find the max 3D distance of all particles from the guessed COM                                               \n",
    "        # will re-start at half that radius (reduced radius)                                                           \n",
    "        r_max = max(r_new)/2.0\n",
    "        \n",
    "        # pick an initial value for the change in COM position                                                      \n",
    "        # between the first guess above and the new one computed from half that volume\n",
    "        # it should be larger than the input tolerance (delta) initially\n",
    "        change = 1000.0\n",
    "\n",
    "        # start iterative process to determine center of mass position                                                 \n",
    "        # delta is the tolerance for the difference in the old COM and the new one.    \n",
    "        \n",
    "        while change > delta:\n",
    "            # select all particles within the reduced radius (starting from original x,y,z, m)\n",
    "            # write your own code below (hints, use np.where)\n",
    "            index2 = np.where(r_new < r_max)\n",
    "            x2 = x_new[index2]\n",
    "            y2 = y_new[index2]\n",
    "            z2 = z_new[index2]\n",
    "            m2 = self.data['m'][index2]\n",
    "\n",
    "            # Refined COM position:                                                                                    \n",
    "            # compute the center of mass position using                                                                \n",
    "            # the particles in the reduced radius\n",
    "            # write your own code below\n",
    "            x_COM2, y_COM2, z_COM2 = self.COMdefine(x2, y2, z2, m2)\n",
    "            # compute the new 3D COM position\n",
    "            # write your own code below\n",
    "            r_COM2 = np.sqrt(x_COM2**2 + y_COM**2 + z_COM**2)\n",
    "\n",
    "            # determine the difference between the previous center of mass position                                    \n",
    "            # and the new one.                                                                                         \n",
    "            change = np.abs(r_COM - r_COM2)\n",
    "            # uncomment the following line if you want to check this                                                                                               \n",
    "            # print (\"CHANGE = \", change)                                                                                     \n",
    "\n",
    "            # Before loop continues, reset : r_max, particle separations and COM                                        \n",
    "            # reduce the volume by a factor of 2 again                                                                 \n",
    "            r_max /= 2.0\n",
    "            # check this.                                                                                              \n",
    "            #print (\"maxR\", r_max)                                                                                      \n",
    "\n",
    "            # Change the frame of reference to the newly computed COM.                                                 \n",
    "            # subtract the new COM\n",
    "            # write your own code below\n",
    "            x_new = x2 - x_COM2\n",
    "            y_new = y2 - y_COM2\n",
    "            z_new = z2 - z_COM2\n",
    "            r_new = np.sqrt(x_new**2 + y_new**2 + z_new**2)\n",
    "\n",
    "            # set the center of mass positions to the refined values                                                   \n",
    "            x_COM = x_COM2\n",
    "            y_COM = y_COM2\n",
    "            z_COM = z_COM2\n",
    "            r_COM = r_COM2\n",
    "\n",
    "            \n",
    "            # create an array (np.array) to store the COM position                                                                                                                                                      \n",
    "            p_COM = np.array([x_COM, y_COM, z_COM])\n",
    "\n",
    "        # set the correct units using astropy and round all values\n",
    "        # and then return the COM positon vector\n",
    "        # write your own code below\n",
    "        p_COM = np.round(p_COM, 2)*u.kpc\n",
    "        return p_COM\n",
    "        \n",
    "        \n",
    "    def COM_V(self, x_COM, y_COM, z_COM):\n",
    "        ''' \n",
    "        Method to compute the center of mass velocity based on the center of mass\n",
    "        position.\n",
    "\n",
    "        Inputs:\n",
    "        -------\n",
    "                x_COM (kpc): the x component of the center of mass in kpc\n",
    "                y_COM (kpc): the y component of the center of mass in kpc\n",
    "                z_COM (kpc): the z component of the center of mass in kpc\n",
    "            \n",
    "        Returns:\n",
    "        --------\n",
    "                v_COM (array in kpc): 3D velocity of the center of mass in km/s\n",
    "        '''\n",
    "        \n",
    "        # the max distance from the center that we will use to determine \n",
    "        #the center of mass velocity                   \n",
    "        #r_COM = np.sqrt(x_COM.to_value()**2 + y_COM.to_value()**2 +z_COM.to_value()**2)\n",
    "        rv_max = 15.0 \n",
    "\n",
    "        # determine the position of all particles relative to the center of mass position (x_COM, y_COM, z_COM)\n",
    "        # write your own code below\n",
    "        xV = self.x - x_COM.to_value()\n",
    "        yV = self.y - y_COM.to_value()\n",
    "        zV = self.z - z_COM.to_value()\n",
    "        rV = np.sqrt(xV**2 + yV**2 +zV**2)\n",
    "        \n",
    "        # determine the index for those particles within the max radius\n",
    "        # write your own code below\n",
    "        indexV = np.where(rV < rv_max)\n",
    "        \n",
    "        # determine the velocity and mass of those particles within the max radius\n",
    "        # write your own code below\n",
    "        vx_new = self.vx[indexV]\n",
    "        vy_new = self.vy[indexV]\n",
    "        vz_new = self.vz[indexV]\n",
    "        m_new =  self.m[indexV]\n",
    "        # compute the center of mass velocity using those particles\n",
    "        # write your own code below\n",
    "        vx_COM, vy_COM, vz_COM = self.COMdefine(vx_new, vy_new, vz_new, m_new)\n",
    "        \n",
    "        # create an array to store the COM velocity\n",
    "        # write your own code below\n",
    "        v_COM = np.array([vx_COM, vy_COM, vz_COM])\n",
    "\n",
    "        # return the COM vector\n",
    "        # set the correct units using astropy\n",
    "        # round all values      \n",
    "        v_COM = np.round(v_COM, 2)*u.km/u.s\n",
    "        return v_COM                                                                              \n",
    "     "
   ]
  },
  {
   "cell_type": "code",
   "execution_count": 167,
   "metadata": {
    "ExecuteTime": {
     "end_time": "2020-02-04T23:59:30.160978Z",
     "start_time": "2020-02-04T23:59:26.220455Z"
    },
    "collapsed": true
   },
   "outputs": [],
   "source": [
    "# Create a Center of mass object for the MW, M31 and M33\n",
    "MW_COM = CenterOfMass(\"MW_000.txt\", 2)\n",
    "M31_COM = CenterOfMass('M31_000.txt', 2)\n",
    "M33_COM = CenterOfMass('M33_000.txt', 2)"
   ]
  },
  {
   "cell_type": "code",
   "execution_count": 168,
   "metadata": {},
   "outputs": [
    {
     "name": "stderr",
     "output_type": "stream",
     "text": [
      "/tmp/ipykernel_364/3282904689.py:55: RuntimeWarning: invalid value encountered in double_scalars\n",
      "  a_com = np.dot(a, m)/total_mass\n",
      "/tmp/ipykernel_364/3282904689.py:57: RuntimeWarning: invalid value encountered in double_scalars\n",
      "  b_com = np.dot(b, m)/total_mass\n",
      "/tmp/ipykernel_364/3282904689.py:59: RuntimeWarning: invalid value encountered in double_scalars\n",
      "  c_com = np.dot(c, m)/total_mass\n"
     ]
    }
   ],
   "source": [
    "MW_COM_p = MW_COM.COM_P()\n",
    "M31_COM_p = M31_COM.COM_P()\n",
    "M33_COM_p = M33_COM.COM_P()\n",
    "MW_COM_v = MW_COM.COM_V(MW_COM_p[0], MW_COM_p[1], MW_COM_p[2])\n",
    "M31_COM_v = M31_COM.COM_V(M31_COM_p[0], M31_COM_p[1], M31_COM_p[2])\n",
    "M33_COM_v = M33_COM.COM_V(M33_COM_p[0], M33_COM_p[1], M33_COM_p[2])"
   ]
  },
  {
   "cell_type": "code",
   "execution_count": 169,
   "metadata": {},
   "outputs": [
    {
     "data": {
      "text/html": [
       "<div>\n",
       "<style scoped>\n",
       "    .dataframe tbody tr th:only-of-type {\n",
       "        vertical-align: middle;\n",
       "    }\n",
       "\n",
       "    .dataframe tbody tr th {\n",
       "        vertical-align: top;\n",
       "    }\n",
       "\n",
       "    .dataframe thead th {\n",
       "        text-align: right;\n",
       "    }\n",
       "</style>\n",
       "<table border=\"1\" class=\"dataframe\">\n",
       "  <thead>\n",
       "    <tr style=\"text-align: right;\">\n",
       "      <th></th>\n",
       "      <th>x</th>\n",
       "      <th>y</th>\n",
       "      <th>z</th>\n",
       "      <th>vx</th>\n",
       "      <th>vy</th>\n",
       "      <th>vz</th>\n",
       "    </tr>\n",
       "  </thead>\n",
       "  <tbody>\n",
       "    <tr>\n",
       "      <th>MW</th>\n",
       "      <td>-0.0 kpc</td>\n",
       "      <td>0.01 kpc</td>\n",
       "      <td>0.0 kpc</td>\n",
       "      <td>-6.87 km / s</td>\n",
       "      <td>1.24 km / s</td>\n",
       "      <td>-1.25 km / s</td>\n",
       "    </tr>\n",
       "    <tr>\n",
       "      <th>M31</th>\n",
       "      <td>-0.01 kpc</td>\n",
       "      <td>-0.01 kpc</td>\n",
       "      <td>0.03 kpc</td>\n",
       "      <td>nan km / s</td>\n",
       "      <td>nan km / s</td>\n",
       "      <td>nan km / s</td>\n",
       "    </tr>\n",
       "    <tr>\n",
       "      <th>M33</th>\n",
       "      <td>-0.0 kpc</td>\n",
       "      <td>-0.01 kpc</td>\n",
       "      <td>-0.06 kpc</td>\n",
       "      <td>nan km / s</td>\n",
       "      <td>nan km / s</td>\n",
       "      <td>nan km / s</td>\n",
       "    </tr>\n",
       "  </tbody>\n",
       "</table>\n",
       "</div>"
      ],
      "text/plain": [
       "             x          y          z            vx           vy            vz\n",
       "MW    -0.0 kpc   0.01 kpc    0.0 kpc  -6.87 km / s  1.24 km / s  -1.25 km / s\n",
       "M31  -0.01 kpc  -0.01 kpc   0.03 kpc    nan km / s   nan km / s    nan km / s\n",
       "M33   -0.0 kpc  -0.01 kpc  -0.06 kpc    nan km / s   nan km / s    nan km / s"
      ]
     },
     "execution_count": 169,
     "metadata": {},
     "output_type": "execute_result"
    }
   ],
   "source": [
    "df_p = pd.DataFrame([MW_COM_p, M31_COM_p, M33_COM_p], columns = ['x', 'y', 'z'], \n",
    "                    index = ['MW', 'M31', 'M33'])\n",
    "df_v = pd.DataFrame([MW_COM_v, M31_COM_v, M33_COM_v], columns = ['vx', 'vy', 'vz'],\n",
    "                    index = ['MW', 'M31', 'M33'])\n",
    "df = pd.concat([df_p, df_v], axis = 1)\n",
    "df"
   ]
  },
  {
   "attachments": {},
   "cell_type": "markdown",
   "metadata": {},
   "source": [
    "Unfortunately, my code is not working, and I do not have time to figure out why. I think I understand the shape of what is wrong: somewhere, I have neglected to adjust the disk positions for M31 and M33 with relation to their centers of mass. This is resulting in incorrect center of mass positions *and* preventing the np.where() call from finding any indeces within the specified range. Despite trying to debug it, I haven't been able to, and I know I won't finish it in time."
   ]
  },
  {
   "attachments": {},
   "cell_type": "markdown",
   "metadata": {},
   "source": [
    "1. See the DataFrame above, although the values are incorrect for the reasons listed."
   ]
  },
  {
   "attachments": {},
   "cell_type": "markdown",
   "metadata": {},
   "source": [
    "2. If I had the right values, I would simply subtract off each coordinate and then find the magnitude of separation. Sadly, there is no real point with the values I have."
   ]
  },
  {
   "attachments": {},
   "cell_type": "markdown",
   "metadata": {},
   "source": [
    "3. Same as (2)."
   ]
  },
  {
   "attachments": {},
   "cell_type": "markdown",
   "metadata": {},
   "source": [
    "4. The iterative process is very important because M31 and M33 may be experiencing significant gravitational disruption due to their proximity. Iterating helps narrow down the particles that actually help describe the center of mass of that particular galaxy, as opposed to particles whose position and velocity have been disrupted by the other galaxy."
   ]
  }
 ],
 "metadata": {
  "kernelspec": {
   "display_name": "Python 3",
   "language": "python",
   "name": "python3"
  },
  "language_info": {
   "codemirror_mode": {
    "name": "ipython",
    "version": 3
   },
   "file_extension": ".py",
   "mimetype": "text/x-python",
   "name": "python",
   "nbconvert_exporter": "python",
   "pygments_lexer": "ipython3",
   "version": "3.8.10"
  },
  "varInspector": {
   "cols": {
    "lenName": 16,
    "lenType": 16,
    "lenVar": 40
   },
   "kernels_config": {
    "python": {
     "delete_cmd_postfix": "",
     "delete_cmd_prefix": "del ",
     "library": "var_list.py",
     "varRefreshCmd": "print(var_dic_list())"
    },
    "r": {
     "delete_cmd_postfix": ") ",
     "delete_cmd_prefix": "rm(",
     "library": "var_list.r",
     "varRefreshCmd": "cat(var_dic_list()) "
    }
   },
   "types_to_exclude": [
    "module",
    "function",
    "builtin_function_or_method",
    "instance",
    "_Feature"
   ],
   "window_display": false
  },
  "vscode": {
   "interpreter": {
    "hash": "31f2aee4e71d21fbe5cf8b01ff0e069b9275f58929596ceb00d14d90e3e16cd6"
   }
  }
 },
 "nbformat": 4,
 "nbformat_minor": 2
}
