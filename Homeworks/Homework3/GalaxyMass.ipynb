{
 "cells": [
  {
   "cell_type": "code",
   "execution_count": 156,
   "metadata": {},
   "outputs": [],
   "source": [
    "from ReadFile import Read\n",
    "import numpy as np\n",
    "import astropy.units as u\n",
    "from astropy.table import QTable \n",
    "from astropy.io import ascii"
   ]
  },
  {
   "cell_type": "code",
   "execution_count": 160,
   "metadata": {},
   "outputs": [],
   "source": [
    "def ComponentMass(filename = str, subset = int):\n",
    "    ''' \n",
    "        This function retrieves the total mass of a given subset.\n",
    "\n",
    "        Inputs:\n",
    "        -------\n",
    "                filename (str): the name of the file containing information on the galaxy you wish to\n",
    "                                analyze\n",
    "                subset (int)  : the index referring to the type of mass wanted: 1 for Halo Mass, 2 for\n",
    "                                the Halo Mass, and 3 for the Disk Mass\n",
    "        \n",
    "        Returns:\n",
    "        --------\n",
    "                mass (float) : the mass of the subset in 1e12*solMass\n",
    "        '''\n",
    "    #call the Read function from Homework 1\n",
    "    time, total, data = Read(filename)\n",
    "\n",
    "    #create array of all indeces pertaining to the given subset\n",
    "    subset = np.where(data['type'] == subset)[0]\n",
    "\n",
    "    #set up try-except clause to protect function from an error when dealing with the Bulge Mass of M33\n",
    "    try:\n",
    "        #redefine our subset term to be an array of all lines of data pertaining to the given subset\n",
    "        subset = data[subset[0] : subset[-1] + 1]\n",
    "    #return 0 for mass if there are no entries in the file for that subset\n",
    "    except IndexError:\n",
    "        return 0\n",
    "\n",
    "    #mass = 1e10*sum(masses)/1e12 = 1e-2*sum(masses)\n",
    "    #[entry[1] for entry in subset] is a for-loop that runs through all masses of objects in the subset\n",
    "    mass = np.round(1e-2*np.sum(np.array([entry[1] for entry in subset])), 3)\n",
    "    \n",
    "    return mass\n"
   ]
  },
  {
   "cell_type": "code",
   "execution_count": 161,
   "metadata": {},
   "outputs": [],
   "source": [
    "#compute each mass component for each galaxy\n",
    "HM_MW = ComponentMass('MW_000.txt', 1)\n",
    "DM_MW = ComponentMass('MW_000.txt', 2)\n",
    "BM_MW = ComponentMass('MW_000.txt', 3)\n",
    "HM_M31 = ComponentMass('M31_000.txt', 1)\n",
    "DM_M31 = ComponentMass('M31_000.txt', 2)\n",
    "BM_M31 = ComponentMass('M31_000.txt', 3)\n",
    "HM_M33 = ComponentMass('M33_000.txt', 1)\n",
    "DM_M33 = ComponentMass('M33_000.txt', 2)\n",
    "BM_M33 = ComponentMass('M33_000.txt', 3)"
   ]
  },
  {
   "cell_type": "code",
   "execution_count": 162,
   "metadata": {},
   "outputs": [
    {
     "data": {
      "text/html": [
       "<div><i>QTable length=4</i>\n",
       "<table id=\"table139902870416688\" class=\"table-striped table-bordered table-condensed\">\n",
       "<thead><tr><th>Galaxy Name</th><th>Halo Mass</th><th>Disk Mass</th><th>Bulge Mass</th><th>Stellar Mass</th><th>Total Mass</th><th>Baryonic Fraction</th></tr></thead>\n",
       "<thead><tr><th></th><th>1e+12 solMass</th><th>1e+12 solMass</th><th>1e+12 solMass</th><th>1e+12 solMass</th><th>1e+12 solMass</th><th></th></tr></thead>\n",
       "<thead><tr><th>str11</th><th>float64</th><th>float64</th><th>float64</th><th>float64</th><th>float64</th><th>float64</th></tr></thead>\n",
       "<tr><td>Milky Way</td><td>1.975</td><td>0.075</td><td>0.01</td><td>0.085</td><td>2.06</td><td>0.0413</td></tr>\n",
       "<tr><td>M31</td><td>1.921</td><td>0.12</td><td>0.019</td><td>0.139</td><td>2.06</td><td>0.0675</td></tr>\n",
       "<tr><td>M33</td><td>0.187</td><td>0.009</td><td>0.0</td><td>0.009</td><td>0.196</td><td>0.0459</td></tr>\n",
       "<tr><td>Local Group</td><td>4.083</td><td>0.204</td><td>0.029</td><td>0.233</td><td>4.316</td><td>0.054</td></tr>\n",
       "</table></div>"
      ],
      "text/plain": [
       "<QTable length=4>\n",
       "Galaxy Name   Halo Mass     Disk Mass   ...   Total Mass  Baryonic Fraction\n",
       "            1e+12 solMass 1e+12 solMass ... 1e+12 solMass                  \n",
       "   str11       float64       float64    ...    float64         float64     \n",
       "----------- ------------- ------------- ... ------------- -----------------\n",
       "  Milky Way         1.975         0.075 ...          2.06            0.0413\n",
       "        M31         1.921          0.12 ...          2.06            0.0675\n",
       "        M33         0.187         0.009 ...         0.196            0.0459\n",
       "Local Group         4.083         0.204 ...         4.316             0.054"
      ]
     },
     "execution_count": 162,
     "metadata": {},
     "output_type": "execute_result"
    }
   ],
   "source": [
    "#compute total mass of each galaxy\n",
    "total_MW = np.round((HM_MW + DM_MW + BM_MW), 3)\n",
    "total_M31 = np.round((HM_M31 + DM_M31 + BM_M31), 3)\n",
    "total_M33 = np.round((HM_M33 + DM_M33 + BM_M33), 3)\n",
    "\n",
    "#compute each component of local group mass\n",
    "HM_LG = np.round((HM_MW + HM_M31 + HM_M33), 3)\n",
    "DM_LG = np.round((DM_MW + DM_M31 + DM_M33), 3)\n",
    "BM_LG = np.round((BM_MW + BM_M31 + BM_M33), 3)\n",
    "total_LG = np.round((total_MW + total_M31 + total_M33), 3)\n",
    "\n",
    "#compute stellar mass for each galaxy/group\n",
    "#I know this isn't required for entry into the table but it was helpful for me to put it in\n",
    "SM_MW = np.round((DM_MW + BM_MW), 3)\n",
    "SM_M31 = np.round((DM_M31 + BM_M31), 3)\n",
    "SM_M33 = np.round((DM_M33 + BM_M33), 3)\n",
    "SM_LG = np.round((DM_LG + BM_LG), 3)\n",
    "\n",
    "#compute baryonic fraction for each galaxy/group\n",
    "f_MW = np.round(SM_MW/total_MW, 4)\n",
    "f_M31 = np.round(SM_M31/total_M31, 4)\n",
    "f_M33 = np.round(SM_M33/total_M33, 4)\n",
    "f_LG = np.round(SM_LG/total_LG, 4)\n",
    "\n",
    "#create astropy table using the QTable variation because we want nice units\n",
    "table = QTable([['Milky Way', 'M31', 'M33', 'Local Group'], [HM_MW, HM_M31, HM_M33, HM_LG], \n",
    "        [DM_MW, DM_M31, DM_M33, DM_LG], [BM_MW, BM_M31, BM_M33, BM_LG], [SM_MW, SM_M31, SM_M33, SM_LG],\n",
    "        [total_MW, total_M31, total_M33, total_LG], [f_MW, f_M31, f_M33, f_LG]], \n",
    "        names = ('Galaxy Name', 'Halo Mass', 'Disk Mass', 'Bulge Mass', 'Stellar Mass', 'Total Mass', \n",
    "        'Baryonic Fraction'), units = (None, 1e12*u.solMass, 1e12*u.solMass, 1e12*u.solMass, \n",
    "        1e12*u.solMass, 1e12*u.solMass, None))\n",
    "table"
   ]
  },
  {
   "cell_type": "code",
   "execution_count": 163,
   "metadata": {},
   "outputs": [
    {
     "name": "stdout",
     "output_type": "stream",
     "text": [
      "\\begin{table}\n",
      "\\begin{tabular}{ccccccc}\n",
      "\\hline \\hline\n",
      "Galaxy Name & Halo Mass & Disk Mass & Bulge Mass & Stellar Mass & Total Mass & Baryonic Fraction \\\\\n",
      " & $\\mathrm{1 \\times 10^{12}\\,M_{\\odot}}$ & $\\mathrm{1 \\times 10^{12}\\,M_{\\odot}}$ & $\\mathrm{1 \\times 10^{12}\\,M_{\\odot}}$ & $\\mathrm{1 \\times 10^{12}\\,M_{\\odot}}$ & $\\mathrm{1 \\times 10^{12}\\,M_{\\odot}}$ &  \\\\\n",
      "\\hline\n",
      "Milky Way & 1.975 & 0.075 & 0.01 & 0.085 & 2.06 & 0.0413 \\\\\n",
      "M31 & 1.921 & 0.12 & 0.019 & 0.139 & 2.06 & 0.0675 \\\\\n",
      "M33 & 0.187 & 0.009 & 0.0 & 0.009 & 0.196 & 0.0459 \\\\\n",
      "Local Group & 4.083 & 0.204 & 0.029 & 0.233 & 4.316 & 0.054 \\\\\n",
      "\\hline\n",
      "\\end{tabular}\n",
      "\\end{table}\n"
     ]
    }
   ],
   "source": [
    "#use astropy ascii package to write the latex code for our table!\n",
    "ascii.write(table, Writer=ascii.Latex, latexdict=ascii.latex.latexdicts['AA'])"
   ]
  },
  {
   "cell_type": "code",
   "execution_count": null,
   "metadata": {},
   "outputs": [],
   "source": []
  }
 ],
 "metadata": {
  "kernelspec": {
   "display_name": "Python 3",
   "language": "python",
   "name": "python3"
  },
  "language_info": {
   "codemirror_mode": {
    "name": "ipython",
    "version": 3
   },
   "file_extension": ".py",
   "mimetype": "text/x-python",
   "name": "python",
   "nbconvert_exporter": "python",
   "pygments_lexer": "ipython3",
   "version": "3.8.10"
  },
  "orig_nbformat": 4,
  "vscode": {
   "interpreter": {
    "hash": "31f2aee4e71d21fbe5cf8b01ff0e069b9275f58929596ceb00d14d90e3e16cd6"
   }
  }
 },
 "nbformat": 4,
 "nbformat_minor": 2
}
